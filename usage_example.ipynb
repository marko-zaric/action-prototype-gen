{
 "cells": [
  {
   "cell_type": "markdown",
   "metadata": {},
   "source": [
    "# Motion Prototype Generation\n",
    "\n",
    "Example usage of motion prototype generator."
   ]
  },
  {
   "cell_type": "code",
   "execution_count": 1,
   "metadata": {},
   "outputs": [],
   "source": [
    "import pandas as pd\n",
    "import numpy as np\n",
    "import matplotlib.pyplot as plt \n",
    "from src.actprogen import effect_based_prototypes\n",
    "from src.actprogen.utils import get_action_and_effect_dims"
   ]
  },
  {
   "cell_type": "markdown",
   "metadata": {},
   "source": [
    "## Data Load"
   ]
  },
  {
   "cell_type": "code",
   "execution_count": 2,
   "metadata": {},
   "outputs": [],
   "source": [
    "df_data = pd.read_csv(\"data/motion_samples.csv\")\n",
    "df_data = df_data[df_data['robot_in_map'] == True]\n",
    "df_data = df_data.sample(n=2000,random_state=42) # not neccessary if you want to use all the data from your file"
   ]
  },
  {
   "cell_type": "markdown",
   "metadata": {},
   "source": [
    "## Effect and Motion Dimensions"
   ]
  },
  {
   "cell_type": "code",
   "execution_count": 3,
   "metadata": {},
   "outputs": [],
   "source": [
    "effect_dims = [['dy', 'dz']]\n",
    "motion_dims = ['magnitude', 'angle']"
   ]
  },
  {
   "cell_type": "markdown",
   "metadata": {},
   "source": [
    "## Prototype Generation"
   ]
  },
  {
   "cell_type": "code",
   "execution_count": 7,
   "metadata": {},
   "outputs": [
    {
     "name": "stdout",
     "output_type": "stream",
     "text": [
      "[DEBUG]: Clusters 3 score 0.47191021507357983\n",
      "[DEBUG]: Clusters 4 score 0.3653204018014894\n",
      "[DEBUG]: Clusters 5 score 0.36257105309634263\n",
      "[DEBUG]: Clusters 6 score 0.31228895147923763\n",
      "[DEBUG]: Clusters 7 score 0.35127431343148724\n",
      "[DEBUG]: Clusters 8 score 0.38420197398025435\n",
      "[DEBUG]: Clusters 9 score 0.3925466457546928\n",
      "[DEBUG]: Clusters 10 score 0.3853232454323988\n",
      "[DEBUG]: labels: {np.int32(0), np.int32(1), np.int32(2), np.int32(3), np.int32(4), np.int32(5)}\n",
      "[DEBUG]: Label: 0 #prototypes: 5\n",
      "[DEBUG]: Label: 1 #prototypes: 5\n",
      "[DEBUG]: Label: 2 #prototypes: 5\n",
      "[DEBUG]: Label: 3 #prototypes: 5\n",
      "[DEBUG]: Label: 4 #prototypes: 5\n",
      "[DEBUG]: Label: 5 #prototypes: 5\n"
     ]
    }
   ],
   "source": [
    "prototype_generator = effect_based_prototypes.EffectActionPrototypes(df_data, motion_dims,log_level='DEBUG')\n",
    "prototypes = prototype_generator.generate(effect_dimensions=effect_dims, fixed_number_of_prototypes=5)"
   ]
  },
  {
   "cell_type": "code",
   "execution_count": 5,
   "metadata": {},
   "outputs": [
    {
     "data": {
      "text/plain": [
       "{np.int32(0): array([[276.83678285,  52.46850562],\n",
       "        [838.86203122,  19.74009837],\n",
       "        [312.08503608,  23.59694023],\n",
       "        [656.01425932,  13.83981448],\n",
       "        [512.96602524,  34.18693233]]),\n",
       " np.int32(1): array([[701.02233939,  48.02694734],\n",
       "        [934.05948027,  85.07251821],\n",
       "        [550.46948468,  57.8758556 ],\n",
       "        [768.39048664,  81.84397235],\n",
       "        [597.70825143,  75.61245856]]),\n",
       " np.int32(2): array([[755.18312555,  85.55283805],\n",
       "        [593.08617745,  45.49057015],\n",
       "        [496.43496827,  82.29958191],\n",
       "        [398.73676826,  51.5571307 ],\n",
       "        [342.77973975,  69.47870908]]),\n",
       " np.int32(3): array([[810.26416109,  83.60720043],\n",
       "        [583.77922088,  48.60694571],\n",
       "        [576.27492476,  80.0108157 ],\n",
       "        [441.64586561,  64.38204856]]),\n",
       " np.int32(4): array([[144.060491  ,  78.07350762],\n",
       "        [128.78676642,  15.37717354],\n",
       "        [799.89711418,  42.65520922],\n",
       "        [112.71436227,  53.38393919],\n",
       "        [380.35893831,  84.78497896]]),\n",
       " np.int32(5): array([[870.61640815,  82.65562796],\n",
       "        [596.04733716,  59.70263015],\n",
       "        [662.97153408,  75.92600736]])}"
      ]
     },
     "execution_count": 5,
     "metadata": {},
     "output_type": "execute_result"
    }
   ],
   "source": [
    "# verify prototypes per cluster label\n",
    "prototype_generator.prototypes_per_label"
   ]
  }
 ],
 "metadata": {
  "kernelspec": {
   "display_name": "Python 3",
   "language": "python",
   "name": "python3"
  },
  "language_info": {
   "codemirror_mode": {
    "name": "ipython",
    "version": 3
   },
   "file_extension": ".py",
   "mimetype": "text/x-python",
   "name": "python",
   "nbconvert_exporter": "python",
   "pygments_lexer": "ipython3",
   "version": "3.10.15"
  },
  "orig_nbformat": 4
 },
 "nbformat": 4,
 "nbformat_minor": 2
}
